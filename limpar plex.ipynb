{
 "cells": [
  {
   "cell_type": "code",
   "execution_count": 2,
   "id": "f11d2fc8",
   "metadata": {},
   "outputs": [
    {
     "name": "stdout",
     "output_type": "stream",
     "text": [
      "D:\\OneDrives\\OneDrive - xKx - Onedrive SharePoint have been block\\Filmes\\Filmes\\Uma Noite de Crime 5 A Fronteira 2021 1080p BluRay DUAL 5.1\\1XBET.COM_promo_SHREK_dinheiro_livre.mp4 22983105\n",
      "D:\\OneDrives\\OneDrive - xKx - Onedrive SharePoint have been block\\Filmes\\Filmes\\Uma Noite de Crime 5 A Fronteira 2021 1080p BluRay DUAL 5.1\\Comando.to.url 45\n",
      "D:\\OneDrives\\OneDrive - xKx - Onedrive SharePoint have been block\\Filmes\\Filmes\\Uma Noite de Crime 5 A Fronteira 2021 1080p BluRay DUAL 5.1\\Trailer.mp4 1712952\n",
      "D:\\OneDrives\\OneDrive - xKx - Onedrive SharePoint have been block\\Filmes\\Infantis\\A Família Addams 2 - Pé na Estrada 2021 WEB-DL 1080p DUAL 5.1\\BLUDV.url 121\n",
      "D:\\OneDrives\\OneDrive - xKx - Onedrive SharePoint have been block\\Filmes\\Infantis\\A Família Addams 2 - Pé na Estrada 2021 WEB-DL 1080p DUAL 5.1\\GRUPO TELEGRAM.url 138\n",
      "D:\\OneDrives\\OneDrive - xKx - Onedrive SharePoint have been block\\Filmes\\Infantis\\A Família Addams 2 - Pé na Estrada 2021 WEB-DL 1080p DUAL 5.1\\LEIA-ME.txt 332\n",
      "D:\\OneDrives\\OneDrive - xKx - Onedrive SharePoint have been block\\Filmes\\Infantis\\A Família Addams 2 - Pé na Estrada 2021 WEB-DL 1080p DUAL 5.1\\Torrent dos Filmes TV.url 134\n",
      "D:\\OneDrives\\OneDrive - xKx - Onedrive SharePoint have been block\\Filmes\\Infantis\\Encanto 2021 1080p WEB-DL DUAL 5.1\\1XBET.COM_promo_SHREK_dinheiro_livre.mp4 22983105\n",
      "D:\\OneDrives\\OneDrive - xKx - Onedrive SharePoint have been block\\Filmes\\Infantis\\Encanto 2021 1080p WEB-DL DUAL 5.1\\Comando.to.url 45\n",
      "D:\\OneDrives\\OneDrive - xKx - Onedrive SharePoint have been block\\Filmes\\Infantis\\Encanto 2021 1080p WEB-DL DUAL 5.1\\Trailer.mp4 1712952\n"
     ]
    }
   ],
   "source": [
    "import os\n",
    "import re\n",
    "\n",
    "tipos = ['Filmes', 'Infantis']\n",
    "for tipo in tipos:\n",
    "    raiz = 'D:\\\\OneDrives\\\\OneDrive - xKx - Onedrive SharePoint have been block\\\\Filmes\\\\' + tipo\n",
    "    pastas = os.listdir(raiz)\n",
    "    #pastas_corrigir = []\n",
    "    for pasta in pastas:\n",
    "        x = re.search('\\s\\(\\d{4}\\)$|sync.ffs_db', pasta)\n",
    "        if not x:\n",
    "            #pastas_corrigir.append(pasta)\n",
    "            caminho_completo = os.path.join(raiz, pasta)\n",
    "            for arquivo in os.listdir(caminho_completo):\n",
    "                caminho_arquivo = os.path.join(caminho_completo, arquivo)\n",
    "                if os.path.getsize(caminho_arquivo) < 200000 * 1024 and 'srt' not in (arquivo):\n",
    "                    os.chmod(caminho_arquivo, 0o777)\n",
    "                    print(caminho_arquivo, os.path.getsize(caminho_arquivo))\n",
    "                    os.remove(caminho_arquivo)\n",
    "            nome_pasta = pasta\n",
    "            palavras_retirar =['[]', 'WEB-DL', '()', '720p', 'BluRay', '1080p', 'DUAL', '5.1', 'VERSÃO ESTENDIDA', '[ACESSE COMANDOTORRENTS.COM]', 'WWW.LAPUMiAFiLMES.COM']\n",
    "            for palavra in palavras_retirar:     \n",
    "                nome_pasta = nome_pasta.replace(palavra, '')\n",
    "                nome_pasta = nome_pasta.replace('  ', ' ')\n",
    "                nome_pasta = nome_pasta.strip()\n",
    "            os.rename(caminho_completo, os.path.join(raiz,nome_pasta))"
   ]
  }
 ],
 "metadata": {
  "kernelspec": {
   "display_name": "Python 3 (ipykernel)",
   "language": "python",
   "name": "python3"
  },
  "language_info": {
   "codemirror_mode": {
    "name": "ipython",
    "version": 3
   },
   "file_extension": ".py",
   "mimetype": "text/x-python",
   "name": "python",
   "nbconvert_exporter": "python",
   "pygments_lexer": "ipython3",
   "version": "3.9.7"
  }
 },
 "nbformat": 4,
 "nbformat_minor": 5
}
